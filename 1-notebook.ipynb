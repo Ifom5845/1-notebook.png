{
 "cells": [
  {
   "cell_type": "code",
   "execution_count": null,
   "metadata": {},
   "outputs": [],
   "source": []
  },
  {
   "cell_type": "code",
   "execution_count": 1,
   "metadata": {},
   "outputs": [
    {
     "name": "stdout",
     "output_type": "stream",
     "text": [
      "Hello, World\n"
     ]
    }
   ],
   "source": [
    "#This is my first notebook\n",
    "print('Hello, World')"
   ]
  },
  {
   "cell_type": "code",
   "execution_count": null,
   "metadata": {},
   "outputs": [],
   "source": [
    "# 2-title.png"
   ]
  },
  {
   "cell_type": "markdown",
   "metadata": {},
   "source": [
    "#Esta es una introducción al cuaderno. Aquí empezamos a explorar cómo trabajar con Markdown."
   ]
  },
  {
   "cell_type": "markdown",
   "metadata": {},
   "source": [
    "#A continuación, se presentan algunos lenguajes de programación clave utilizados en Ciencia de Datos:\n",
    "\n",
    "1. Python\n",
    "2. R\n",
    "3. SQL\n",
    "4. Julia\n",
    "5. Scala\n"
   ]
  },
  {
   "cell_type": "markdown",
   "metadata": {},
   "source": [
    "\n",
    "\n",
    "1. Pandas\n",
    "2. NumPy\n",
    "3. Matplotlib\n",
    "4. Seaborn\n",
    "5. Scikit-learn\n",
    "6. TensorFlow\n",
    "7. PyTorch\n"
   ]
  },
  {
   "cell_type": "markdown",
   "metadata": {},
   "source": [
    "Below is a table with some commonly used Data Science tools:\n",
    "\n",
    "| Tool              | Type of Tool        | Main Use                     |\n",
    "|-------------------|---------------------|------------------------------|\n",
    "| Jupyter Notebook  | Development Environment | Interactive data analysis   |\n",
    "| Python            | Programming Language  | Data analysis, AI, and ML     |\n",
    "| R                 | Programming Language  | Statistics and data analysis |\n",
    "| Pandas            | Python Library        | Data manipulation and analysis |\n",
    "| Matplotlib        | Python Library        | Data visualization            |\n",
    "| Scikit-learn      | Python Library        | Machine learning              |\n",
    "| TensorFlow        | Python Library        | Neural networks and deep learning |\n"
   ]
  },
  {
   "cell_type": "markdown",
   "metadata": {},
   "source": [
    "Below are some examples of arithmetic expressions in Python:\n",
    "\n",
    "- Addition: `3 + 5`\n",
    "- Subtraction: `10 - 4`\n",
    "- Multiplication: `6 * 7`\n",
    "- Division: `20 / 4`\n"
   ]
  },
  {
   "cell_type": "code",
   "execution_count": null,
   "metadata": {},
   "outputs": [],
   "source": [
    "# Multiply two numbers\n",
    "multiplication_result = 5 * 3\n",
    "print(f\"Multiplication result: {multiplication_result}\")\n",
    "\n",
    "# Add two numbers\n",
    "addition_result = 7 + 2\n",
    "print(f\"Addition result: {addition_result}\")\n"
   ]
  },
  {
   "cell_type": "code",
   "execution_count": null,
   "metadata": {},
   "outputs": [],
   "source": [
    "# Convert minutes to hours\n",
    "minutes = 150\n",
    "hours = minutes / 60\n",
    "print(f\"{minutes} minutes is equal to {hours} hours.\")\n"
   ]
  },
  {
   "cell_type": "markdown",
   "metadata": {},
   "source": [
    "Here are the objectives for learning Data Science:\n",
    "\n",
    "- Understand the basics of Python programming.\n",
    "- Learn how to manipulate and analyze data using libraries like Pandas and NumPy.\n",
    "- Understand statistical methods and how to apply them in real-world problems.\n",
    "- Master machine learning algorithms and data visualization techniques.\n",
    "- Work on projects to gain hands-on experience in Data Science.\n"
   ]
  },
  {
   "cell_type": "markdown",
   "metadata": {},
   "source": [
    "Author: Ivan Felipe Osorio Marin \n"
   ]
  }
 ],
 "metadata": {
  "kernelspec": {
   "display_name": "Python 3",
   "language": "python",
   "name": "python3"
  },
  "language_info": {
   "codemirror_mode": {
    "name": "ipython",
    "version": 3
   },
   "file_extension": ".py",
   "mimetype": "text/x-python",
   "name": "python",
   "nbconvert_exporter": "python",
   "pygments_lexer": "ipython3",
   "version": "3.12.4"
  }
 },
 "nbformat": 4,
 "nbformat_minor": 2
}
